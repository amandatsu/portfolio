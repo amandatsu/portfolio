{
 "cells": [
  {
   "cell_type": "code",
   "execution_count": 17,
   "id": "9fb35e37",
   "metadata": {},
   "outputs": [],
   "source": [
    "import pandas as pd\n",
    "import numpy as np\n",
    "import seaborn as sns\n",
    "import matplotlib.pyplot as plt\n",
    "from sklearn.metrics import mean_squared_error\n",
    "from sklearn.model_selection import cross_val_score,train_test_split\n",
    "from sklearn.model_selection import KFold\n",
    "from sklearn.tree import DecisionTreeRegressor,DecisionTreeClassifier\n",
    "from sklearn.model_selection import GridSearchCV, ParameterGrid, StratifiedKFold\n",
    "from sklearn.ensemble import BaggingRegressor,BaggingClassifier,RandomForestRegressor,RandomForestClassifier\n",
    "from sklearn.linear_model import LinearRegression,LogisticRegression\n",
    "from sklearn.neighbors import KNeighborsRegressor\n",
    "from sklearn.metrics import roc_curve, precision_recall_curve, auc, make_scorer, recall_score, \\\n",
    "accuracy_score, precision_score, confusion_matrix, mean_squared_error, r2_score\n",
    "\n",
    "import itertools as it\n",
    "\n",
    "#Libraries for visualizing trees\n",
    "from sklearn.tree import export_graphviz \n",
    "from six import StringIO\n",
    "from IPython.display import Image  \n",
    "import pydotplus\n",
    "import time as time"
   ]
  },
  {
   "cell_type": "code",
   "execution_count": 18,
   "id": "c3e0e991",
   "metadata": {},
   "outputs": [
    {
     "data": {
      "text/html": [
       "<div>\n",
       "<style scoped>\n",
       "    .dataframe tbody tr th:only-of-type {\n",
       "        vertical-align: middle;\n",
       "    }\n",
       "\n",
       "    .dataframe tbody tr th {\n",
       "        vertical-align: top;\n",
       "    }\n",
       "\n",
       "    .dataframe thead th {\n",
       "        text-align: right;\n",
       "    }\n",
       "</style>\n",
       "<table border=\"1\" class=\"dataframe\">\n",
       "  <thead>\n",
       "    <tr style=\"text-align: right;\">\n",
       "      <th></th>\n",
       "      <th>Age</th>\n",
       "      <th>Diabetes</th>\n",
       "      <th>BloodPressureProblems</th>\n",
       "      <th>AnyTransplants</th>\n",
       "      <th>AnyChronicDiseases</th>\n",
       "      <th>Height</th>\n",
       "      <th>Weight</th>\n",
       "      <th>KnownAllergies</th>\n",
       "      <th>HistoryOfCancerInFamily</th>\n",
       "      <th>NumberOfMajorSurgeries</th>\n",
       "      <th>PremiumPrice</th>\n",
       "    </tr>\n",
       "  </thead>\n",
       "  <tbody>\n",
       "    <tr>\n",
       "      <th>0</th>\n",
       "      <td>45</td>\n",
       "      <td>0</td>\n",
       "      <td>0</td>\n",
       "      <td>0</td>\n",
       "      <td>0</td>\n",
       "      <td>155</td>\n",
       "      <td>57</td>\n",
       "      <td>0</td>\n",
       "      <td>0</td>\n",
       "      <td>0</td>\n",
       "      <td>25000</td>\n",
       "    </tr>\n",
       "    <tr>\n",
       "      <th>1</th>\n",
       "      <td>60</td>\n",
       "      <td>1</td>\n",
       "      <td>0</td>\n",
       "      <td>0</td>\n",
       "      <td>0</td>\n",
       "      <td>180</td>\n",
       "      <td>73</td>\n",
       "      <td>0</td>\n",
       "      <td>0</td>\n",
       "      <td>0</td>\n",
       "      <td>29000</td>\n",
       "    </tr>\n",
       "    <tr>\n",
       "      <th>2</th>\n",
       "      <td>36</td>\n",
       "      <td>1</td>\n",
       "      <td>1</td>\n",
       "      <td>0</td>\n",
       "      <td>0</td>\n",
       "      <td>158</td>\n",
       "      <td>59</td>\n",
       "      <td>0</td>\n",
       "      <td>0</td>\n",
       "      <td>1</td>\n",
       "      <td>23000</td>\n",
       "    </tr>\n",
       "    <tr>\n",
       "      <th>3</th>\n",
       "      <td>52</td>\n",
       "      <td>1</td>\n",
       "      <td>1</td>\n",
       "      <td>0</td>\n",
       "      <td>1</td>\n",
       "      <td>183</td>\n",
       "      <td>93</td>\n",
       "      <td>0</td>\n",
       "      <td>0</td>\n",
       "      <td>2</td>\n",
       "      <td>28000</td>\n",
       "    </tr>\n",
       "    <tr>\n",
       "      <th>4</th>\n",
       "      <td>38</td>\n",
       "      <td>0</td>\n",
       "      <td>0</td>\n",
       "      <td>0</td>\n",
       "      <td>1</td>\n",
       "      <td>166</td>\n",
       "      <td>88</td>\n",
       "      <td>0</td>\n",
       "      <td>0</td>\n",
       "      <td>1</td>\n",
       "      <td>23000</td>\n",
       "    </tr>\n",
       "  </tbody>\n",
       "</table>\n",
       "</div>"
      ],
      "text/plain": [
       "   Age  Diabetes  BloodPressureProblems  AnyTransplants  AnyChronicDiseases  \\\n",
       "0   45         0                      0               0                   0   \n",
       "1   60         1                      0               0                   0   \n",
       "2   36         1                      1               0                   0   \n",
       "3   52         1                      1               0                   1   \n",
       "4   38         0                      0               0                   1   \n",
       "\n",
       "   Height  Weight  KnownAllergies  HistoryOfCancerInFamily  \\\n",
       "0     155      57               0                        0   \n",
       "1     180      73               0                        0   \n",
       "2     158      59               0                        0   \n",
       "3     183      93               0                        0   \n",
       "4     166      88               0                        0   \n",
       "\n",
       "   NumberOfMajorSurgeries  PremiumPrice  \n",
       "0                       0         25000  \n",
       "1                       0         29000  \n",
       "2                       1         23000  \n",
       "3                       2         28000  \n",
       "4                       1         23000  "
      ]
     },
     "execution_count": 18,
     "metadata": {},
     "output_type": "execute_result"
    }
   ],
   "source": [
    "data = pd.read_csv('MedicalPremium.csv')\n",
    "data.head()"
   ]
  },
  {
   "cell_type": "code",
   "execution_count": 19,
   "id": "cbbe8789",
   "metadata": {},
   "outputs": [
    {
     "data": {
      "text/html": [
       "<div>\n",
       "<style scoped>\n",
       "    .dataframe tbody tr th:only-of-type {\n",
       "        vertical-align: middle;\n",
       "    }\n",
       "\n",
       "    .dataframe tbody tr th {\n",
       "        vertical-align: top;\n",
       "    }\n",
       "\n",
       "    .dataframe thead th {\n",
       "        text-align: right;\n",
       "    }\n",
       "</style>\n",
       "<table border=\"1\" class=\"dataframe\">\n",
       "  <thead>\n",
       "    <tr style=\"text-align: right;\">\n",
       "      <th></th>\n",
       "      <th>Age</th>\n",
       "      <th>Diabetes</th>\n",
       "      <th>BloodPressureProblems</th>\n",
       "      <th>AnyTransplants</th>\n",
       "      <th>AnyChronicDiseases</th>\n",
       "      <th>Height</th>\n",
       "      <th>Weight</th>\n",
       "      <th>KnownAllergies</th>\n",
       "      <th>HistoryOfCancerInFamily</th>\n",
       "      <th>NumberOfMajorSurgeries</th>\n",
       "      <th>PremiumPrice</th>\n",
       "    </tr>\n",
       "  </thead>\n",
       "  <tbody>\n",
       "    <tr>\n",
       "      <th>count</th>\n",
       "      <td>986.000000</td>\n",
       "      <td>986.000000</td>\n",
       "      <td>986.000000</td>\n",
       "      <td>986.000000</td>\n",
       "      <td>986.000000</td>\n",
       "      <td>986.000000</td>\n",
       "      <td>986.000000</td>\n",
       "      <td>986.000000</td>\n",
       "      <td>986.000000</td>\n",
       "      <td>986.000000</td>\n",
       "      <td>986.000000</td>\n",
       "    </tr>\n",
       "    <tr>\n",
       "      <th>mean</th>\n",
       "      <td>41.745436</td>\n",
       "      <td>0.419878</td>\n",
       "      <td>0.468560</td>\n",
       "      <td>0.055781</td>\n",
       "      <td>0.180527</td>\n",
       "      <td>168.182556</td>\n",
       "      <td>76.950304</td>\n",
       "      <td>0.215010</td>\n",
       "      <td>0.117647</td>\n",
       "      <td>0.667343</td>\n",
       "      <td>24336.713996</td>\n",
       "    </tr>\n",
       "    <tr>\n",
       "      <th>std</th>\n",
       "      <td>13.963371</td>\n",
       "      <td>0.493789</td>\n",
       "      <td>0.499264</td>\n",
       "      <td>0.229615</td>\n",
       "      <td>0.384821</td>\n",
       "      <td>10.098155</td>\n",
       "      <td>14.265096</td>\n",
       "      <td>0.411038</td>\n",
       "      <td>0.322353</td>\n",
       "      <td>0.749205</td>\n",
       "      <td>6248.184382</td>\n",
       "    </tr>\n",
       "    <tr>\n",
       "      <th>min</th>\n",
       "      <td>18.000000</td>\n",
       "      <td>0.000000</td>\n",
       "      <td>0.000000</td>\n",
       "      <td>0.000000</td>\n",
       "      <td>0.000000</td>\n",
       "      <td>145.000000</td>\n",
       "      <td>51.000000</td>\n",
       "      <td>0.000000</td>\n",
       "      <td>0.000000</td>\n",
       "      <td>0.000000</td>\n",
       "      <td>15000.000000</td>\n",
       "    </tr>\n",
       "    <tr>\n",
       "      <th>25%</th>\n",
       "      <td>30.000000</td>\n",
       "      <td>0.000000</td>\n",
       "      <td>0.000000</td>\n",
       "      <td>0.000000</td>\n",
       "      <td>0.000000</td>\n",
       "      <td>161.000000</td>\n",
       "      <td>67.000000</td>\n",
       "      <td>0.000000</td>\n",
       "      <td>0.000000</td>\n",
       "      <td>0.000000</td>\n",
       "      <td>21000.000000</td>\n",
       "    </tr>\n",
       "    <tr>\n",
       "      <th>50%</th>\n",
       "      <td>42.000000</td>\n",
       "      <td>0.000000</td>\n",
       "      <td>0.000000</td>\n",
       "      <td>0.000000</td>\n",
       "      <td>0.000000</td>\n",
       "      <td>168.000000</td>\n",
       "      <td>75.000000</td>\n",
       "      <td>0.000000</td>\n",
       "      <td>0.000000</td>\n",
       "      <td>1.000000</td>\n",
       "      <td>23000.000000</td>\n",
       "    </tr>\n",
       "    <tr>\n",
       "      <th>75%</th>\n",
       "      <td>53.000000</td>\n",
       "      <td>1.000000</td>\n",
       "      <td>1.000000</td>\n",
       "      <td>0.000000</td>\n",
       "      <td>0.000000</td>\n",
       "      <td>176.000000</td>\n",
       "      <td>87.000000</td>\n",
       "      <td>0.000000</td>\n",
       "      <td>0.000000</td>\n",
       "      <td>1.000000</td>\n",
       "      <td>28000.000000</td>\n",
       "    </tr>\n",
       "    <tr>\n",
       "      <th>max</th>\n",
       "      <td>66.000000</td>\n",
       "      <td>1.000000</td>\n",
       "      <td>1.000000</td>\n",
       "      <td>1.000000</td>\n",
       "      <td>1.000000</td>\n",
       "      <td>188.000000</td>\n",
       "      <td>132.000000</td>\n",
       "      <td>1.000000</td>\n",
       "      <td>1.000000</td>\n",
       "      <td>3.000000</td>\n",
       "      <td>40000.000000</td>\n",
       "    </tr>\n",
       "  </tbody>\n",
       "</table>\n",
       "</div>"
      ],
      "text/plain": [
       "              Age    Diabetes  BloodPressureProblems  AnyTransplants  \\\n",
       "count  986.000000  986.000000             986.000000      986.000000   \n",
       "mean    41.745436    0.419878               0.468560        0.055781   \n",
       "std     13.963371    0.493789               0.499264        0.229615   \n",
       "min     18.000000    0.000000               0.000000        0.000000   \n",
       "25%     30.000000    0.000000               0.000000        0.000000   \n",
       "50%     42.000000    0.000000               0.000000        0.000000   \n",
       "75%     53.000000    1.000000               1.000000        0.000000   \n",
       "max     66.000000    1.000000               1.000000        1.000000   \n",
       "\n",
       "       AnyChronicDiseases      Height      Weight  KnownAllergies  \\\n",
       "count          986.000000  986.000000  986.000000      986.000000   \n",
       "mean             0.180527  168.182556   76.950304        0.215010   \n",
       "std              0.384821   10.098155   14.265096        0.411038   \n",
       "min              0.000000  145.000000   51.000000        0.000000   \n",
       "25%              0.000000  161.000000   67.000000        0.000000   \n",
       "50%              0.000000  168.000000   75.000000        0.000000   \n",
       "75%              0.000000  176.000000   87.000000        0.000000   \n",
       "max              1.000000  188.000000  132.000000        1.000000   \n",
       "\n",
       "       HistoryOfCancerInFamily  NumberOfMajorSurgeries  PremiumPrice  \n",
       "count               986.000000              986.000000    986.000000  \n",
       "mean                  0.117647                0.667343  24336.713996  \n",
       "std                   0.322353                0.749205   6248.184382  \n",
       "min                   0.000000                0.000000  15000.000000  \n",
       "25%                   0.000000                0.000000  21000.000000  \n",
       "50%                   0.000000                1.000000  23000.000000  \n",
       "75%                   0.000000                1.000000  28000.000000  \n",
       "max                   1.000000                3.000000  40000.000000  "
      ]
     },
     "execution_count": 19,
     "metadata": {},
     "output_type": "execute_result"
    }
   ],
   "source": [
    "data.describe()"
   ]
  },
  {
   "cell_type": "code",
   "execution_count": 20,
   "id": "b9a5ac6d",
   "metadata": {},
   "outputs": [],
   "source": [
    "y = data['PremiumPrice']\n",
    "X = data.drop(columns = 'PremiumPrice')\n",
    "\n",
    "X_train, X_test, y_train, y_test = train_test_split(X, y, test_size = 0.2, random_state = 45)\n",
    "\n"
   ]
  },
  {
   "cell_type": "markdown",
   "id": "fa40bf65",
   "metadata": {},
   "source": [
    "# Basic Model"
   ]
  },
  {
   "cell_type": "code",
   "execution_count": 21,
   "id": "506aadef",
   "metadata": {},
   "outputs": [],
   "source": [
    "#basic decision tree model with default parameters and random_state = 45\n",
    "basicmodel = DecisionTreeRegressor(random_state=45) \n",
    "basicmodel = basicmodel.fit(X_train, y_train)"
   ]
  },
  {
   "cell_type": "code",
   "execution_count": 22,
   "id": "e76e6469",
   "metadata": {
    "scrolled": true
   },
   "outputs": [
    {
     "data": {
      "text/plain": [
       "2915.4759474226503"
      ]
     },
     "execution_count": 22,
     "metadata": {},
     "output_type": "execute_result"
    }
   ],
   "source": [
    "#decision tree RMSE \n",
    "np.sqrt(mean_squared_error(y_test, basicmodel.predict(X_test)))"
   ]
  },
  {
   "cell_type": "markdown",
   "id": "f579ed7b",
   "metadata": {},
   "source": [
    "# Random Forest "
   ]
  },
  {
   "cell_type": "code",
   "execution_count": 23,
   "id": "9821c3ec",
   "metadata": {
    "scrolled": true
   },
   "outputs": [
    {
     "name": "stdout",
     "output_type": "stream",
     "text": [
      "Fitting 5 folds for each of 135 candidates, totalling 675 fits\n"
     ]
    },
    {
     "name": "stderr",
     "output_type": "stream",
     "text": [
      "/Users/amandatsuetaki/opt/anaconda3/lib/python3.9/site-packages/sklearn/model_selection/_split.py:676: UserWarning: The least populated class in y has only 1 members, which is less than n_splits=5.\n",
      "  warnings.warn(\n"
     ]
    },
    {
     "data": {
      "text/plain": [
       "RandomForestRegressor(max_depth=15, max_features=3, max_leaf_nodes=225,\n",
       "                      n_estimators=21, random_state=45)"
      ]
     },
     "execution_count": 23,
     "metadata": {},
     "output_type": "execute_result"
    }
   ],
   "source": [
    "#grid search 1\n",
    "param_grid = {\n",
    "    'max_depth': [12,15,18],\n",
    "    'max_leaf_nodes': range(25,250, 50),\n",
    "    'max_features': range(1,4),\n",
    "    'n_estimators': range(1,30,10)\n",
    "}\n",
    "skf = StratifiedKFold(n_splits=5)\n",
    "\n",
    "grid = GridSearchCV(RandomForestRegressor(random_state=45), param_grid, scoring= 'neg_mean_squared_error', cv=skf, n_jobs=-1, verbose = True)\n",
    "grid.fit(X_train,y_train)\n",
    "grid.best_estimator_"
   ]
  },
  {
   "cell_type": "code",
   "execution_count": 24,
   "id": "a7be2eb7",
   "metadata": {},
   "outputs": [
    {
     "name": "stdout",
     "output_type": "stream",
     "text": [
      "nan\n",
      "{'max_depth': 15, 'max_features': 3, 'max_leaf_nodes': 225, 'n_estimators': 21}\n"
     ]
    },
    {
     "name": "stderr",
     "output_type": "stream",
     "text": [
      "/var/folders/nw/zm64_12d7lqck058z9xvmqq40000gn/T/ipykernel_4260/1356221127.py:1: RuntimeWarning: invalid value encountered in sqrt\n",
      "  print(np.sqrt(grid.best_score_)) # Best accuracy that the grid returns\n"
     ]
    }
   ],
   "source": [
    "print(np.sqrt(grid.best_score_)) # Best accuracy that the grid returns\n",
    "print(grid.best_params_) # Best hyperparam combo\n",
    "cv_results = pd.DataFrame(grid.cv_results_)"
   ]
  },
  {
   "cell_type": "code",
   "execution_count": 31,
   "id": "6fede81e",
   "metadata": {},
   "outputs": [
    {
     "data": {
      "text/plain": [
       "2736.0580415604586"
      ]
     },
     "execution_count": 31,
     "metadata": {},
     "output_type": "execute_result"
    }
   ],
   "source": [
    "# grid search 1 -> rf_A\n",
    "rf_A = RandomForestRegressor(n_estimators=grid.best_params_['n_estimators'],max_depth=grid.best_params_['max_depth'],\n",
    "max_leaf_nodes=grid.best_params_['max_leaf_nodes'],max_features=grid.best_params_['max_features'],random_state= 42)\n",
    "\n",
    "rf_A=rf_A.fit(X_train,y_train)\n",
    "# RMSE of rf_A\n",
    "np.sqrt(mean_squared_error(y_test, rf_A.predict(X_test)))"
   ]
  },
  {
   "cell_type": "code",
   "execution_count": 77,
   "id": "20e0c769",
   "metadata": {},
   "outputs": [
    {
     "name": "stdout",
     "output_type": "stream",
     "text": [
      "                 predictor      rank\n",
      "0                      Age  0.591302\n",
      "6                   Weight  0.117328\n",
      "3           AnyTransplants  0.086449\n",
      "5                   Height  0.066020\n",
      "9   NumberOfMajorSurgeries  0.046415\n",
      "4       AnyChronicDiseases  0.032599\n",
      "2    BloodPressureProblems  0.021369\n",
      "8  HistoryOfCancerInFamily  0.018237\n",
      "1                 Diabetes  0.011421\n",
      "7           KnownAllergies  0.008860\n"
     ]
    }
   ],
   "source": [
    "# feature importances \n",
    "imp = rf_final.feature_importances_\n",
    "\n",
    "fi_df = pd.DataFrame(columns = ['predictor', 'rank'])\n",
    "fi_df.loc[:, 'predictor'] = X_train.columns\n",
    "fi_df.loc[:, 'rank'] = imp\n",
    "fi_df = fi_df.sort_values('rank', ascending = False)\n",
    "print(fi_df)"
   ]
  },
  {
   "cell_type": "markdown",
   "id": "e4682c68",
   "metadata": {},
   "source": [
    "# Random Forest -- max features and bootstrap check"
   ]
  },
  {
   "cell_type": "code",
   "execution_count": 84,
   "id": "528c807f",
   "metadata": {},
   "outputs": [
    {
     "name": "stdout",
     "output_type": "stream",
     "text": [
      "Fitting 5 folds for each of 50 candidates, totalling 250 fits\n",
      "-8150705.186379639 {'bootstrap': True, 'max_features': 9}\n"
     ]
    },
    {
     "name": "stderr",
     "output_type": "stream",
     "text": [
      "/Users/amandatsuetaki/opt/anaconda3/lib/python3.9/site-packages/sklearn/model_selection/_validation.py:372: FitFailedWarning: \n",
      "150 fits failed out of a total of 250.\n",
      "The score on these train-test partitions for these parameters will be set to nan.\n",
      "If these failures are not expected, you can try to debug them by setting error_score='raise'.\n",
      "\n",
      "Below are more details about the failures:\n",
      "--------------------------------------------------------------------------------\n",
      "75 fits failed with the following error:\n",
      "Traceback (most recent call last):\n",
      "  File \"/Users/amandatsuetaki/opt/anaconda3/lib/python3.9/site-packages/sklearn/model_selection/_validation.py\", line 680, in _fit_and_score\n",
      "    estimator.fit(X_train, y_train, **fit_params)\n",
      "  File \"/Users/amandatsuetaki/opt/anaconda3/lib/python3.9/site-packages/sklearn/ensemble/_forest.py\", line 450, in fit\n",
      "    trees = Parallel(\n",
      "  File \"/Users/amandatsuetaki/opt/anaconda3/lib/python3.9/site-packages/joblib/parallel.py\", line 1056, in __call__\n",
      "    self.retrieve()\n",
      "  File \"/Users/amandatsuetaki/opt/anaconda3/lib/python3.9/site-packages/joblib/parallel.py\", line 935, in retrieve\n",
      "    self._output.extend(job.get(timeout=self.timeout))\n",
      "  File \"/Users/amandatsuetaki/opt/anaconda3/lib/python3.9/multiprocessing/pool.py\", line 771, in get\n",
      "    raise self._value\n",
      "  File \"/Users/amandatsuetaki/opt/anaconda3/lib/python3.9/multiprocessing/pool.py\", line 125, in worker\n",
      "    result = (True, func(*args, **kwds))\n",
      "  File \"/Users/amandatsuetaki/opt/anaconda3/lib/python3.9/site-packages/joblib/_parallel_backends.py\", line 595, in __call__\n",
      "    return self.func(*args, **kwargs)\n",
      "  File \"/Users/amandatsuetaki/opt/anaconda3/lib/python3.9/site-packages/joblib/parallel.py\", line 262, in __call__\n",
      "    return [func(*args, **kwargs)\n",
      "  File \"/Users/amandatsuetaki/opt/anaconda3/lib/python3.9/site-packages/joblib/parallel.py\", line 262, in <listcomp>\n",
      "    return [func(*args, **kwargs)\n",
      "  File \"/Users/amandatsuetaki/opt/anaconda3/lib/python3.9/site-packages/sklearn/utils/fixes.py\", line 216, in __call__\n",
      "    return self.function(*args, **kwargs)\n",
      "  File \"/Users/amandatsuetaki/opt/anaconda3/lib/python3.9/site-packages/sklearn/ensemble/_forest.py\", line 185, in _parallel_build_trees\n",
      "    tree.fit(X, y, sample_weight=curr_sample_weight, check_input=False)\n",
      "  File \"/Users/amandatsuetaki/opt/anaconda3/lib/python3.9/site-packages/sklearn/tree/_classes.py\", line 1315, in fit\n",
      "    super().fit(\n",
      "  File \"/Users/amandatsuetaki/opt/anaconda3/lib/python3.9/site-packages/sklearn/tree/_classes.py\", line 308, in fit\n",
      "    raise ValueError(\"max_features must be in (0, n_features]\")\n",
      "ValueError: max_features must be in (0, n_features]\n",
      "\n",
      "--------------------------------------------------------------------------------\n",
      "75 fits failed with the following error:\n",
      "Traceback (most recent call last):\n",
      "  File \"/Users/amandatsuetaki/opt/anaconda3/lib/python3.9/site-packages/sklearn/model_selection/_validation.py\", line 680, in _fit_and_score\n",
      "    estimator.fit(X_train, y_train, **fit_params)\n",
      "  File \"/Users/amandatsuetaki/opt/anaconda3/lib/python3.9/site-packages/sklearn/ensemble/_forest.py\", line 450, in fit\n",
      "    trees = Parallel(\n",
      "  File \"/Users/amandatsuetaki/opt/anaconda3/lib/python3.9/site-packages/joblib/parallel.py\", line 1056, in __call__\n",
      "    self.retrieve()\n",
      "  File \"/Users/amandatsuetaki/opt/anaconda3/lib/python3.9/site-packages/joblib/parallel.py\", line 935, in retrieve\n",
      "    self._output.extend(job.get(timeout=self.timeout))\n",
      "  File \"/Users/amandatsuetaki/opt/anaconda3/lib/python3.9/multiprocessing/pool.py\", line 771, in get\n",
      "    raise self._value\n",
      "  File \"/Users/amandatsuetaki/opt/anaconda3/lib/python3.9/multiprocessing/pool.py\", line 125, in worker\n",
      "    result = (True, func(*args, **kwds))\n",
      "  File \"/Users/amandatsuetaki/opt/anaconda3/lib/python3.9/site-packages/joblib/_parallel_backends.py\", line 595, in __call__\n",
      "    return self.func(*args, **kwargs)\n",
      "  File \"/Users/amandatsuetaki/opt/anaconda3/lib/python3.9/site-packages/joblib/parallel.py\", line 262, in __call__\n",
      "    return [func(*args, **kwargs)\n",
      "  File \"/Users/amandatsuetaki/opt/anaconda3/lib/python3.9/site-packages/joblib/parallel.py\", line 262, in <listcomp>\n",
      "    return [func(*args, **kwargs)\n",
      "  File \"/Users/amandatsuetaki/opt/anaconda3/lib/python3.9/site-packages/sklearn/utils/fixes.py\", line 216, in __call__\n",
      "    return self.function(*args, **kwargs)\n",
      "  File \"/Users/amandatsuetaki/opt/anaconda3/lib/python3.9/site-packages/sklearn/ensemble/_forest.py\", line 187, in _parallel_build_trees\n",
      "    tree.fit(X, y, sample_weight=sample_weight, check_input=False)\n",
      "  File \"/Users/amandatsuetaki/opt/anaconda3/lib/python3.9/site-packages/sklearn/tree/_classes.py\", line 1315, in fit\n",
      "    super().fit(\n",
      "  File \"/Users/amandatsuetaki/opt/anaconda3/lib/python3.9/site-packages/sklearn/tree/_classes.py\", line 308, in fit\n",
      "    raise ValueError(\"max_features must be in (0, n_features]\")\n",
      "ValueError: max_features must be in (0, n_features]\n",
      "\n",
      "  warnings.warn(some_fits_failed_message, FitFailedWarning)\n",
      "/Users/amandatsuetaki/opt/anaconda3/lib/python3.9/site-packages/sklearn/model_selection/_search.py:969: UserWarning: One or more of the test scores are non-finite: [-12785853.06451147 -11028977.96171376  -9384577.907907\n",
      "  -8750404.65622116  -8426526.36512672  -8300045.91648974\n",
      "  -8206962.99174931  -8256664.51951589  -8150705.18637964\n",
      "  -8350927.45590225                nan                nan\n",
      "                nan                nan                nan\n",
      "                nan                nan                nan\n",
      "                nan                nan                nan\n",
      "                nan                nan                nan\n",
      "                nan -12056618.48221615 -10358899.30454938\n",
      "  -8870691.02090743  -8642281.20086439  -8716855.14293137\n",
      "  -9138295.14436471  -9760093.06780617 -10417723.32356867\n",
      " -11548117.82024062 -14379203.11358363                nan\n",
      "                nan                nan                nan\n",
      "                nan                nan                nan\n",
      "                nan                nan                nan\n",
      "                nan                nan                nan\n",
      "                nan                nan]\n",
      "  warnings.warn(\n"
     ]
    }
   ],
   "source": [
    "# grid search 2\n",
    "params = {'max_features': range(1,26), \n",
    "          'bootstrap': [True, False]}\n",
    "\n",
    "cv = KFold(n_splits=5, shuffle=True, random_state=45)\n",
    "\n",
    "rf_grid = GridSearchCV(RandomForestRegressor(random_state=45, n_jobs=-1, n_estimators=150), param_grid = params, cv=cv,\n",
    "                       n_jobs=-1, verbose=1, scoring='neg_mean_squared_error')\n",
    "\n",
    "rf_grid.fit(X_train, y_train)\n",
    "print(rf_grid.best_score_, rf_grid.best_params_)"
   ]
  },
  {
   "cell_type": "code",
   "execution_count": 85,
   "id": "96464370",
   "metadata": {},
   "outputs": [
    {
     "data": {
      "text/plain": [
       "2509.740720641972"
      ]
     },
     "execution_count": 85,
     "metadata": {},
     "output_type": "execute_result"
    }
   ],
   "source": [
    "# Grid Search 2 -> rf_B\n",
    "rf_B = RandomForestRegressor(random_state=45, max_features =9,bootstrap = True) \n",
    "rf_B.fit(X_train, y_train)\n",
    "# RMSE of rf_B\n",
    "np.sqrt(mean_squared_error(y_test, rf_B.predict(X_test)))"
   ]
  },
  {
   "cell_type": "code",
   "execution_count": 88,
   "id": "a35764bb",
   "metadata": {},
   "outputs": [
    {
     "data": {
      "text/plain": [
       "2423.6041489292493"
      ]
     },
     "execution_count": 88,
     "metadata": {},
     "output_type": "execute_result"
    }
   ],
   "source": [
    "# Grid Search 2 -> rf_C\n",
    "rf_C = RandomForestRegressor(random_state=45, max_features =9,bootstrap = False) \n",
    "rf_C.fit(X_train, y_train)\n",
    "#RMSE of rf_C\n",
    "np.sqrt(mean_squared_error(y_test, rf_C.predict(X_test)))"
   ]
  },
  {
   "cell_type": "markdown",
   "id": "e3651843",
   "metadata": {},
   "source": [
    "# Random Forest -- max_leaf_nodes, max_depth"
   ]
  },
  {
   "cell_type": "code",
   "execution_count": 111,
   "id": "80b0c62f",
   "metadata": {},
   "outputs": [
    {
     "name": "stdout",
     "output_type": "stream",
     "text": [
      "Fitting 5 folds for each of 28 candidates, totalling 140 fits\n",
      "-8414949.152049337 {'max_depth': 10, 'max_leaf_nodes': 100}\n"
     ]
    }
   ],
   "source": [
    "# Grid Search 3\n",
    "params = {'max_leaf_nodes': range(100,500,100), \n",
    "          'max_depth': [5,10,15,20,25,30,35]}\n",
    "\n",
    "cv = KFold(n_splits=5, shuffle=True, random_state=45)\n",
    "\n",
    "rf_grid = GridSearchCV(RandomForestRegressor(random_state=45, n_jobs=-1, n_estimators=150, max_features =9,bootstrap = True), \n",
    "                       param_grid = params, cv=cv,\n",
    "                       n_jobs=-1, verbose=1, scoring='neg_mean_squared_error')\n",
    "rf_grid.fit(X_train, y_train)\n",
    "print(rf_grid.best_score_, rf_grid.best_params_)"
   ]
  },
  {
   "cell_type": "code",
   "execution_count": 112,
   "id": "40e00c9b",
   "metadata": {},
   "outputs": [
    {
     "data": {
      "text/plain": [
       "2533.4067688797904"
      ]
     },
     "execution_count": 112,
     "metadata": {},
     "output_type": "execute_result"
    }
   ],
   "source": [
    "# Grid Search 3 -> rf_D\n",
    "rf_D = RandomForestRegressor(random_state=45, max_features =9, max_depth =10, max_leaf_nodes = 100, bootstrap = True) \n",
    "rf_D.fit(X_train, y_train)\n",
    "# RMSE of rf_D\n",
    "np.sqrt(mean_squared_error(y_test, rf_D.predict(X_test)))"
   ]
  },
  {
   "cell_type": "code",
   "execution_count": 113,
   "id": "af8085ff",
   "metadata": {},
   "outputs": [
    {
     "data": {
      "text/plain": [
       "2477.168878045213"
      ]
     },
     "execution_count": 113,
     "metadata": {},
     "output_type": "execute_result"
    }
   ],
   "source": [
    "# Grid Search 3 -> rf_E\n",
    "rf_E = RandomForestRegressor(random_state=45, max_features =9, max_depth =10, max_leaf_nodes = 100, bootstrap = False) \n",
    "rf_E.fit(X_train, y_train)\n",
    "# RMSE of rf_E\n",
    "np.sqrt(mean_squared_error(y_test, rf_E.predict(X_test)))"
   ]
  },
  {
   "cell_type": "code",
   "execution_count": 114,
   "id": "1530c63b",
   "metadata": {},
   "outputs": [
    {
     "data": {
      "text/html": [
       "<div>\n",
       "<style scoped>\n",
       "    .dataframe tbody tr th:only-of-type {\n",
       "        vertical-align: middle;\n",
       "    }\n",
       "\n",
       "    .dataframe tbody tr th {\n",
       "        vertical-align: top;\n",
       "    }\n",
       "\n",
       "    .dataframe thead th {\n",
       "        text-align: right;\n",
       "    }\n",
       "</style>\n",
       "<table border=\"1\" class=\"dataframe\">\n",
       "  <thead>\n",
       "    <tr style=\"text-align: right;\">\n",
       "      <th></th>\n",
       "      <th>mean_fit_time</th>\n",
       "      <th>std_fit_time</th>\n",
       "      <th>mean_score_time</th>\n",
       "      <th>std_score_time</th>\n",
       "      <th>param_max_depth</th>\n",
       "      <th>param_max_leaf_nodes</th>\n",
       "      <th>params</th>\n",
       "      <th>split0_test_score</th>\n",
       "      <th>split1_test_score</th>\n",
       "      <th>split2_test_score</th>\n",
       "      <th>split3_test_score</th>\n",
       "      <th>split4_test_score</th>\n",
       "      <th>mean_test_score</th>\n",
       "      <th>std_test_score</th>\n",
       "      <th>rank_test_score</th>\n",
       "    </tr>\n",
       "  </thead>\n",
       "  <tbody>\n",
       "    <tr>\n",
       "      <th>0</th>\n",
       "      <td>0.268084</td>\n",
       "      <td>0.023008</td>\n",
       "      <td>0.026726</td>\n",
       "      <td>0.004343</td>\n",
       "      <td>5</td>\n",
       "      <td>100</td>\n",
       "      <td>{'max_depth': 5, 'max_leaf_nodes': 100}</td>\n",
       "      <td>-8.432883e+06</td>\n",
       "      <td>-1.206444e+07</td>\n",
       "      <td>-1.188258e+07</td>\n",
       "      <td>-4.115404e+06</td>\n",
       "      <td>-9.209993e+06</td>\n",
       "      <td>-9.141060e+06</td>\n",
       "      <td>2.892251e+06</td>\n",
       "      <td>28</td>\n",
       "    </tr>\n",
       "    <tr>\n",
       "      <th>1</th>\n",
       "      <td>0.318634</td>\n",
       "      <td>0.068270</td>\n",
       "      <td>0.029307</td>\n",
       "      <td>0.008214</td>\n",
       "      <td>5</td>\n",
       "      <td>200</td>\n",
       "      <td>{'max_depth': 5, 'max_leaf_nodes': 200}</td>\n",
       "      <td>-8.432883e+06</td>\n",
       "      <td>-1.206444e+07</td>\n",
       "      <td>-1.188258e+07</td>\n",
       "      <td>-4.115404e+06</td>\n",
       "      <td>-9.209993e+06</td>\n",
       "      <td>-9.141060e+06</td>\n",
       "      <td>2.892251e+06</td>\n",
       "      <td>25</td>\n",
       "    </tr>\n",
       "    <tr>\n",
       "      <th>2</th>\n",
       "      <td>0.248525</td>\n",
       "      <td>0.052158</td>\n",
       "      <td>0.038309</td>\n",
       "      <td>0.008697</td>\n",
       "      <td>5</td>\n",
       "      <td>300</td>\n",
       "      <td>{'max_depth': 5, 'max_leaf_nodes': 300}</td>\n",
       "      <td>-8.432883e+06</td>\n",
       "      <td>-1.206444e+07</td>\n",
       "      <td>-1.188258e+07</td>\n",
       "      <td>-4.115404e+06</td>\n",
       "      <td>-9.209993e+06</td>\n",
       "      <td>-9.141060e+06</td>\n",
       "      <td>2.892251e+06</td>\n",
       "      <td>25</td>\n",
       "    </tr>\n",
       "    <tr>\n",
       "      <th>3</th>\n",
       "      <td>0.287569</td>\n",
       "      <td>0.040809</td>\n",
       "      <td>0.048854</td>\n",
       "      <td>0.010007</td>\n",
       "      <td>5</td>\n",
       "      <td>400</td>\n",
       "      <td>{'max_depth': 5, 'max_leaf_nodes': 400}</td>\n",
       "      <td>-8.432883e+06</td>\n",
       "      <td>-1.206444e+07</td>\n",
       "      <td>-1.188258e+07</td>\n",
       "      <td>-4.115404e+06</td>\n",
       "      <td>-9.209993e+06</td>\n",
       "      <td>-9.141060e+06</td>\n",
       "      <td>2.892251e+06</td>\n",
       "      <td>25</td>\n",
       "    </tr>\n",
       "    <tr>\n",
       "      <th>4</th>\n",
       "      <td>0.299390</td>\n",
       "      <td>0.059521</td>\n",
       "      <td>0.034748</td>\n",
       "      <td>0.010092</td>\n",
       "      <td>10</td>\n",
       "      <td>100</td>\n",
       "      <td>{'max_depth': 10, 'max_leaf_nodes': 100}</td>\n",
       "      <td>-7.275906e+06</td>\n",
       "      <td>-1.121982e+07</td>\n",
       "      <td>-1.054932e+07</td>\n",
       "      <td>-4.751795e+06</td>\n",
       "      <td>-8.277905e+06</td>\n",
       "      <td>-8.414949e+06</td>\n",
       "      <td>2.330568e+06</td>\n",
       "      <td>1</td>\n",
       "    </tr>\n",
       "  </tbody>\n",
       "</table>\n",
       "</div>"
      ],
      "text/plain": [
       "   mean_fit_time  std_fit_time  mean_score_time  std_score_time  \\\n",
       "0       0.268084      0.023008         0.026726        0.004343   \n",
       "1       0.318634      0.068270         0.029307        0.008214   \n",
       "2       0.248525      0.052158         0.038309        0.008697   \n",
       "3       0.287569      0.040809         0.048854        0.010007   \n",
       "4       0.299390      0.059521         0.034748        0.010092   \n",
       "\n",
       "  param_max_depth param_max_leaf_nodes  \\\n",
       "0               5                  100   \n",
       "1               5                  200   \n",
       "2               5                  300   \n",
       "3               5                  400   \n",
       "4              10                  100   \n",
       "\n",
       "                                     params  split0_test_score  \\\n",
       "0   {'max_depth': 5, 'max_leaf_nodes': 100}      -8.432883e+06   \n",
       "1   {'max_depth': 5, 'max_leaf_nodes': 200}      -8.432883e+06   \n",
       "2   {'max_depth': 5, 'max_leaf_nodes': 300}      -8.432883e+06   \n",
       "3   {'max_depth': 5, 'max_leaf_nodes': 400}      -8.432883e+06   \n",
       "4  {'max_depth': 10, 'max_leaf_nodes': 100}      -7.275906e+06   \n",
       "\n",
       "   split1_test_score  split2_test_score  split3_test_score  split4_test_score  \\\n",
       "0      -1.206444e+07      -1.188258e+07      -4.115404e+06      -9.209993e+06   \n",
       "1      -1.206444e+07      -1.188258e+07      -4.115404e+06      -9.209993e+06   \n",
       "2      -1.206444e+07      -1.188258e+07      -4.115404e+06      -9.209993e+06   \n",
       "3      -1.206444e+07      -1.188258e+07      -4.115404e+06      -9.209993e+06   \n",
       "4      -1.121982e+07      -1.054932e+07      -4.751795e+06      -8.277905e+06   \n",
       "\n",
       "   mean_test_score  std_test_score  rank_test_score  \n",
       "0    -9.141060e+06    2.892251e+06               28  \n",
       "1    -9.141060e+06    2.892251e+06               25  \n",
       "2    -9.141060e+06    2.892251e+06               25  \n",
       "3    -9.141060e+06    2.892251e+06               25  \n",
       "4    -8.414949e+06    2.330568e+06                1  "
      ]
     },
     "execution_count": 114,
     "metadata": {},
     "output_type": "execute_result"
    }
   ],
   "source": [
    "# getting the CV response\n",
    "cv_results = pd.DataFrame(rf_grid.cv_results_)\n",
    "cv_results.head()"
   ]
  },
  {
   "cell_type": "code",
   "execution_count": 115,
   "id": "cd9f6dd4",
   "metadata": {},
   "outputs": [
    {
     "data": {
      "text/plain": [
       "Text(0, 0.5, 'K-fold MAE')"
      ]
     },
     "execution_count": 115,
     "metadata": {},
     "output_type": "execute_result"
    },
    {
     "data": {
      "image/png": "[encoded data removed]",
      "text/plain": [
       "<Figure size 1008x360 with 2 Axes>"
      ]
     },
     "metadata": {
      "needs_background": "light"
     },
     "output_type": "display_data"
    }
   ],
   "source": [
    "# getting a plot of depth and leaves \n",
    "fig, axes = plt.subplots(1,2,figsize=(14,5))\n",
    "plt.subplots_adjust(wspace=0.2)\n",
    "axes[0].plot(cv_results.param_max_depth, np.sqrt(-cv_results.mean_test_score), 'o')\n",
    "axes[0].set_xlim([0,100])\n",
    "axes[0].set_ylim([2500,3500])\n",
    "axes[0].set_xlabel('Depth')\n",
    "axes[0].set_ylabel('K-fold MAE')\n",
    "axes[1].plot(cv_results.param_max_leaf_nodes, np.sqrt(-cv_results.mean_test_score), 'o')\n",
    "axes[1].set_xlim([0,400])\n",
    "axes[1].set_ylim([2500,3500])\n",
    "axes[1].set_xlabel('Leaves')\n",
    "axes[1].set_ylabel('K-fold MAE')"
   ]
  },
  {
   "cell_type": "markdown",
   "id": "8dd4a8bf",
   "metadata": {},
   "source": [
    "# zoom in corse grid search on max_leaf_nodes"
   ]
  },
  {
   "cell_type": "code",
   "execution_count": 121,
   "id": "47074571",
   "metadata": {},
   "outputs": [
    {
     "name": "stdout",
     "output_type": "stream",
     "text": [
      "Fitting 5 folds for each of 40 candidates, totalling 200 fits\n",
      "-8140719.147659877 {'max_depth': 7, 'max_leaf_nodes': 25}\n"
     ]
    }
   ],
   "source": [
    "# Grid Search 4\n",
    "params = {'max_leaf_nodes': range(25,75,5), \n",
    "          'max_depth': [1,3,5,7]}\n",
    "\n",
    "cv = KFold(n_splits=5, shuffle=True, random_state=45)\n",
    "\n",
    "rf_grid = GridSearchCV(RandomForestRegressor(random_state=45, n_jobs=-1, n_estimators=150, max_features =9,bootstrap = True), \n",
    "                       param_grid = params, cv=cv,\n",
    "                       n_jobs=-1, verbose=1, scoring='neg_mean_squared_error')\n",
    "rf_grid.fit(X_train, y_train)\n",
    "print(rf_grid.best_score_, rf_grid.best_params_)"
   ]
  },
  {
   "cell_type": "code",
   "execution_count": 122,
   "id": "364bc2a6",
   "metadata": {},
   "outputs": [
    {
     "data": {
      "text/plain": [
       "2584.2833328216193"
      ]
     },
     "execution_count": 122,
     "metadata": {},
     "output_type": "execute_result"
    }
   ],
   "source": [
    "# Grid Search 4 -> rf_F\n",
    "rf_F = RandomForestRegressor(random_state=45, max_features =9, max_depth =7, max_leaf_nodes = 25, bootstrap = True) \n",
    "rf_F.fit(X_train, y_train)\n",
    "# RMSE of rf_F\n",
    "np.sqrt(mean_squared_error(y_test, rf_F.predict(X_test)))"
   ]
  },
  {
   "cell_type": "code",
   "execution_count": 123,
   "id": "4b5eb03a",
   "metadata": {
    "scrolled": true
   },
   "outputs": [
    {
     "data": {
      "text/plain": [
       "2294.445129554296"
      ]
     },
     "execution_count": 123,
     "metadata": {},
     "output_type": "execute_result"
    }
   ],
   "source": [
    "# Grid Search 4 -> rf_G\n",
    "rf_G = RandomForestRegressor(random_state=45, max_features =9, max_depth =7, max_leaf_nodes = 25, bootstrap = False) \n",
    "rf_G.fit(X_train, y_train)\n",
    "np.sqrt(mean_squared_error(y_test, rf_G.predict(X_test)))"
   ]
  },
  {
   "cell_type": "markdown",
   "id": "1f138c39",
   "metadata": {},
   "source": [
    "# checking a bit more"
   ]
  },
  {
   "cell_type": "code",
   "execution_count": 24,
   "id": "5f956bae",
   "metadata": {
    "scrolled": true
   },
   "outputs": [
    {
     "name": "stdout",
     "output_type": "stream",
     "text": [
      "Fitting 5 folds for each of 12 candidates, totalling 60 fits\n",
      "-8300245.767709451 {'max_depth': 10, 'max_leaf_nodes': 50}\n"
     ]
    }
   ],
   "source": [
    "#Grid Search5\n",
    "params = {'max_leaf_nodes': range(50,75,10), \n",
    "          'max_depth': [5,7,10,13]}\n",
    "\n",
    "cv = KFold(n_splits=5, shuffle=True, random_state=45)\n",
    "\n",
    "rf_grid = GridSearchCV(RandomForestRegressor(random_state=45, n_jobs=-1, n_estimators=150, max_features =9,bootstrap = True), \n",
    "                       param_grid = params, cv=cv,\n",
    "                       n_jobs=-1, verbose=1, scoring='neg_mean_squared_error')\n",
    "rf_grid.fit(X_train, y_train)\n",
    "print(rf_grid.best_score_, rf_grid.best_params_)"
   ]
  },
  {
   "cell_type": "code",
   "execution_count": 124,
   "id": "980bb1e6",
   "metadata": {},
   "outputs": [
    {
     "data": {
      "text/plain": [
       "2260.6542969509105"
      ]
     },
     "execution_count": 124,
     "metadata": {},
     "output_type": "execute_result"
    }
   ],
   "source": [
    "# Grid Search 5 -> rf_H\n",
    "rf_H = RandomForestRegressor(random_state=45, max_features =9, max_depth =10, max_leaf_nodes = 50, bootstrap = False) \n",
    "rf_H.fit(X_train, y_train)\n",
    "# RMSE of rf_H\n",
    "np.sqrt(mean_squared_error(y_test, rf_H.predict(X_test)))"
   ]
  },
  {
   "cell_type": "markdown",
   "id": "3f39fd11",
   "metadata": {},
   "source": [
    "# adding more params (trying different max_features)"
   ]
  },
  {
   "cell_type": "code",
   "execution_count": 127,
   "id": "4c09b6da",
   "metadata": {},
   "outputs": [
    {
     "name": "stdout",
     "output_type": "stream",
     "text": [
      "Fitting 5 folds for each of 2 candidates, totalling 10 fits\n",
      "-9384577.907907004 {'max_features': 'sqrt'}\n"
     ]
    }
   ],
   "source": [
    "# Grid Search 6\n",
    "params = {'max_features':[\"sqrt\", \"log2\"]}\n",
    "\n",
    "cv = KFold(n_splits=5, shuffle=True, random_state=45)\n",
    "\n",
    "rf_grid = GridSearchCV(RandomForestRegressor(random_state=45, n_jobs=-1, n_estimators=150,bootstrap = True), \n",
    "                       param_grid = params, cv=cv,\n",
    "                       n_jobs=-1, verbose=1, scoring='neg_mean_squared_error')\n",
    "rf_grid.fit(X_train, y_train)\n",
    "print(rf_grid.best_score_, rf_grid.best_params_)"
   ]
  },
  {
   "cell_type": "code",
   "execution_count": 128,
   "id": "7555154a",
   "metadata": {},
   "outputs": [
    {
     "data": {
      "text/plain": [
       "2814.889804240815"
      ]
     },
     "execution_count": 128,
     "metadata": {},
     "output_type": "execute_result"
    }
   ],
   "source": [
    "# Grid Search 6 -> rf_I\n",
    "rf_I = RandomForestRegressor(random_state=45, max_features ='sqrt', max_depth =10, max_leaf_nodes = 50, bootstrap = False) \n",
    "rf_I.fit(X_train, y_train)\n",
    "\n",
    "np.sqrt(mean_squared_error(y_test, rf_I.predict(X_test)))"
   ]
  },
  {
   "cell_type": "code",
   "execution_count": null,
   "id": "0e3b789a",
   "metadata": {},
   "outputs": [],
   "source": []
  }
 ],
 "metadata": {
  "kernelspec": {
   "display_name": "Python 3 (ipykernel)",
   "language": "python",
   "name": "python3"
  },
  "language_info": {
   "codemirror_mode": {
    "name": "ipython",
    "version": 3
   },
   "file_extension": ".py",
   "mimetype": "text/x-python",
   "name": "python",
   "nbconvert_exporter": "python",
   "pygments_lexer": "ipython3",
   "version": "3.9.12"
  }
 },
 "nbformat": 4,
 "nbformat_minor": 5
}
